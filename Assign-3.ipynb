{
 "cells": [
  {
   "cell_type": "code",
   "execution_count": null,
   "metadata": {},
   "outputs": [],
   "source": [
    "#Assign-3, Task 1\n",
    "# calculator using Python\n",
    "operator = input(\"Select your operation: +, -, /, *\")\n",
    "num1 = float(input(\"Enter First Number \"))\n",
    "num2 = float(input(\"Enter Second Number \"))\n",
    "if operator == \"+\":\n",
    "    print(num1, \" + \", num2, \" = \", num1+num2)\n",
    "elif operator == \"-\":\n",
    "    print(num1, \" - \", num2, \" = \", num1-num2)\n",
    "elif operator == \"/\":\n",
    "    print(num1, \" / \", num2, \" = \", num1/num2)\n",
    "elif operator == \"*\":\n",
    "    print(num1, \" * \", num2, \" = \", num1*num2)"
   ]
  },
  {
   "cell_type": "code",
   "execution_count": null,
   "metadata": {},
   "outputs": [],
   "source": [
    "#Assign-3, Task 2\n",
    "list = [11,6,30,'Awais',\"python\",0.1,False, 5]\n",
    "for i in arr:\n",
    "    if type(i) == int:\n",
    "        print(i,\"numeric Value\")\n",
    "    elif type(i) == float:\n",
    "        print(i,\"numeric Value\")"
   ]
  },
  {
   "cell_type": "code",
   "execution_count": null,
   "metadata": {},
   "outputs": [],
   "source": [
    "#Assign-3, Task 3\n",
    "dictionary = {}\n",
    "inputkey = input(\"Enter Key\")\n",
    "inputvalue = input(\"Enter Value\")\n",
    "dictionary.update({inputkey:inputvalue})\n",
    "\n",
    "print(dictionary)"
   ]
  },
  {
   "cell_type": "code",
   "execution_count": null,
   "metadata": {},
   "outputs": [],
   "source": [
    "#Assign-3, Task 4\n",
    "dictionary = {\n",
    "    'num1' : 11,\n",
    "    'num2' : 1,\n",
    "    'string':'anything'\n",
    "}\n",
    "\n",
    "sum = 0\n",
    "\n",
    "for i in dictionary.values():\n",
    "    if type(i) == int:\n",
    "        sum +=i\n",
    "\n",
    "print(\"Sum of all numeric items a dictionary is\" , sum)"
   ]
  },
  {
   "cell_type": "code",
   "execution_count": null,
   "metadata": {},
   "outputs": [],
   "source": [
    "#Assign-3, Task 5\n",
    "lisItems = [1,5,4,6,7,7,6,5]\n",
    "list_range = len(lisItems)\n",
    "dublicate = []\n",
    "for i in range (list_range):\n",
    "    a = i + 1\n",
    "    for b in range(a, list_range):\n",
    "        if lisItems[i] == lisItems[b] and lisItems[i] not in dublicate:\n",
    "            dublicate.append(lisItems[i])\n",
    "print(\"Repeted item in list are\" , dublicate)"
   ]
  },
  {
   "cell_type": "code",
   "execution_count": null,
   "metadata": {},
   "outputs": [],
   "source": [
    "#Assign-3, Task 6\n",
    "dictionary = {\n",
    "    'num1' : 12,\n",
    "    'num2' : 15,\n",
    "    'string':'Name',\n",
    "    'char':'a',\n",
    "    'num3' : 17,\n",
    "    'num4':21,\n",
    "}\n",
    "check_key = input(\"Enter Key Name Check if exist or not\")\n",
    "flag = False\n",
    "for i in dictionary.keys():\n",
    "    if i == check_key:\n",
    "        flag = True\n",
    "        break\n",
    "\n",
    "if flag:\n",
    "    print(\"Given Key exist\")\n",
    "else:\n",
    "    print(\"Given Key dose not exist\")"
   ]
  },
  {
   "cell_type": "code",
   "execution_count": null,
   "metadata": {},
   "outputs": [],
   "source": []
  }
 ],
 "metadata": {
  "kernelspec": {
   "display_name": "Python 3",
   "language": "python",
   "name": "python3"
  },
  "language_info": {
   "codemirror_mode": {
    "name": "ipython",
    "version": 3
   },
   "file_extension": ".py",
   "mimetype": "text/x-python",
   "name": "python",
   "nbconvert_exporter": "python",
   "pygments_lexer": "ipython3",
   "version": "3.7.1"
  }
 },
 "nbformat": 4,
 "nbformat_minor": 2
}
